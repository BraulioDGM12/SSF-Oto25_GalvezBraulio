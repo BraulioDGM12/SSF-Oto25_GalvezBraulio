{
  "nbformat": 4,
  "nbformat_minor": 0,
  "metadata": {
    "colab": {
      "provenance": [],
      "authorship_tag": "ABX9TyOAVexyDUwro+tckuy9uMlO",
      "include_colab_link": true
    },
    "kernelspec": {
      "name": "python3",
      "display_name": "Python 3"
    },
    "language_info": {
      "name": "python"
    }
  },
  "cells": [
    {
      "cell_type": "markdown",
      "metadata": {
        "id": "view-in-github",
        "colab_type": "text"
      },
      "source": [
        "<a href=\"https://colab.research.google.com/github/BraulioDGM12/SSF-Oto25_GalvezBraulio/blob/main/SSF_Oto25G%C3%A1lvezBraulio.ipynb\" target=\"_parent\"><img src=\"https://colab.research.google.com/assets/colab-badge.svg\" alt=\"Open In Colab\"/></a>"
      ]
    },
    {
      "cell_type": "markdown",
      "source": [
        "# Método de Horner y Cos (T3)"
      ],
      "metadata": {
        "id": "9jGK39lh2X1m"
      }
    },
    {
      "cell_type": "code",
      "execution_count": 40,
      "metadata": {
        "id": "UJIikwlynMmx",
        "colab": {
          "base_uri": "https://localhost:8080/"
        },
        "outputId": "84a423a0-a05b-4bdf-e261-afb4d7132de6"
      },
      "outputs": [
        {
          "output_type": "stream",
          "name": "stdout",
          "text": [
            "Para el método Horner el resultado es: 46521\n",
            "Para el método Naive el resultado es: 46521\n",
            "Para el método Iter el resultado es: 46521\n"
          ]
        }
      ],
      "source": [
        "def poly_horner(A, x):\n",
        "    p0 = A[-1]           # Empieza con el coeficiente de mayor grado (a_n)\n",
        "    i = len(A) - 2      # Índice del siguiente coeficiente\n",
        "    while i >= 0:\n",
        "        p0 = p0 * x + A[i]  # Aplica Horner: p0 = (p0 * x) + siguiente coeficiente\n",
        "        i -= 1            # Decimos que ahora i=i-1\n",
        "    return p0              # Guarda p0\n",
        "\n",
        "\n",
        "def poly_naive(A, x):\n",
        "    p1 = 0\n",
        "    for i, a in enumerate(A):\n",
        "        p1 += (x ** i) * a\n",
        "    return p1\n",
        "\n",
        "def poly_iter(A, x):\n",
        "    p2 = 0\n",
        "    xn = 1\n",
        "    for a in A:\n",
        "        p2 += xn * a\n",
        "        xn *= x\n",
        "    return p2\n",
        "\n",
        "A = [-19, 7, -4, 6]     #Definimos la lista de coeficientes\n",
        "x=20         # Definimos la variable x\n",
        "print(f\"Para el método Horner el resultado es: {poly_horner(A, x)}\")\n",
        "print(f\"Para el método Naive el resultado es: {poly_naive(A, x)}\")\n",
        "print(f\"Para el método Iter el resultado es: {poly_iter(A, x)}\")"
      ]
    },
    {
      "cell_type": "code",
      "source": [
        "import math\n",
        "import csv\n",
        "\n",
        "# Serie directa\n",
        "def cos_series_direct(x, tol=1e-8, CosenoReal=None):\n",
        "    suma = 0\n",
        "    n = 0\n",
        "    term = 1\n",
        "    results = []\n",
        "    while abs(term) > tol:\n",
        "        term = ((-1)**n) * (x**(2*n)) / math.factorial(2*n)\n",
        "        suma += term\n",
        "        error_rel = abs(suma - CosenoReal) / abs(CosenoReal)\n",
        "        results.append((n, suma, error_rel))\n",
        "        n += 1\n",
        "    return results\n",
        "\n",
        "# Serie parcial\n",
        "def cos_series_partial(x, tol=1e-8, CosenoReal=None):\n",
        "    suma = 0\n",
        "    n = 0\n",
        "    term = 1\n",
        "    results = []\n",
        "    while abs(term) > tol:\n",
        "        suma += term\n",
        "        error_rel = abs(suma - CosenoReal) / abs(CosenoReal)\n",
        "        results.append((n, suma, error_rel))\n",
        "        # siguiente término\n",
        "        term *= - (x**2) / ((2*n+1)*(2*n+2))\n",
        "        n += 1\n",
        "    return results\n",
        "\n",
        "# Función para guardar resultados en CSV\n",
        "def guardar_csv(nombre, x, results, CosenoReal):\n",
        "    with open(nombre, mode=\"w\", newline=\"\", encoding=\"utf-8\") as file:\n",
        "        writer = csv.writer(file)\n",
        "        writer.writerow([\"x\", \"Iteración\", \"Suma\", \"|Suma-cos(x)|/cos(x)\"])\n",
        "        for n, suma, error_rel in results:\n",
        "            writer.writerow([x, n, f\"{suma:.10f}\", f\"{abs(suma-CosenoReal)/CosenoReal:.10e}\"])\n",
        "\n",
        "# Ejemplo\n",
        "x =90\n",
        "CosenoReal = math.cos(x)\n",
        "\n",
        "# Generar resultados\n",
        "res_direct_1e4 = cos_series_direct(x, 1e-4, CosenoReal)\n",
        "res_direct_1e8 = cos_series_direct(x, 1e-8, CosenoReal)\n",
        "res_partial_1e4 = cos_series_partial(x, 1e-4, CosenoReal)\n",
        "res_partial_1e8 = cos_series_partial(x, 1e-8, CosenoReal)\n",
        "\n",
        "# Guardar CSVs\n",
        "guardar_csv(\"serie_directa_tol1e-4.csv\", x, res_direct_1e4, CosenoReal)\n",
        "guardar_csv(\"serie_directa_tol1e-8.csv\", x, res_direct_1e8, CosenoReal)\n",
        "guardar_csv(\"serie_parcial_tol1e-4.csv\", x, res_partial_1e4, CosenoReal)\n",
        "guardar_csv(\"serie_parcial_tol1e-8.csv\", x, res_partial_1e8, CosenoReal)\n",
        "\n",
        "print(\"Archivos CSV generados, según yo\") #Profesor, si está viendo esto y no encuentra los archivos en collab\n",
        "# están en la parte izquierda donde está el símbolo de una carpeta. Supongo que ya lo sabe, pero por si las dudas.\n",
        "print(f\"El valor del cos({x}) es: {CosenoReal}\")"
      ],
      "metadata": {
        "colab": {
          "base_uri": "https://localhost:8080/"
        },
        "id": "KTvk30OFAkhj",
        "outputId": "272d2569-1fce-4c25-e881-f0aba461ca97"
      },
      "execution_count": 41,
      "outputs": [
        {
          "output_type": "stream",
          "name": "stdout",
          "text": [
            "Archivos CSV generados, según yo\n",
            "El valor del cos(90) es: -0.4480736161291701\n"
          ]
        }
      ]
    }
  ]
}