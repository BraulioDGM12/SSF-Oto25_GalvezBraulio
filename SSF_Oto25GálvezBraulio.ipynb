{
  "nbformat": 4,
  "nbformat_minor": 0,
  "metadata": {
    "colab": {
      "provenance": [],
      "authorship_tag": "ABX9TyNLTMMWreZodepOQnRCRq6f",
      "include_colab_link": true
    },
    "kernelspec": {
      "name": "python3",
      "display_name": "Python 3"
    },
    "language_info": {
      "name": "python"
    }
  },
  "cells": [
    {
      "cell_type": "markdown",
      "metadata": {
        "id": "view-in-github",
        "colab_type": "text"
      },
      "source": [
        "<a href=\"https://colab.research.google.com/github/BraulioDGM12/SSF-Oto25_GalvezBraulio/blob/main/SSF_Oto25G%C3%A1lvezBraulio.ipynb\" target=\"_parent\"><img src=\"https://colab.research.google.com/assets/colab-badge.svg\" alt=\"Open In Colab\"/></a>"
      ]
    },
    {
      "cell_type": "markdown",
      "source": [
        "#T5) Integrales así chidas\n",
        "\n",
        "\n"
      ],
      "metadata": {
        "id": "2kMyWzqcVVnL"
      }
    },
    {
      "cell_type": "markdown",
      "source": [
        "Ejercicio 1\n",
        "\n",
        "\n"
      ],
      "metadata": {
        "id": "5xTsS7OiVbya"
      }
    },
    {
      "cell_type": "code",
      "source": [
        "import numpy as np\n",
        "import pandas as pd\n",
        "from numpy.polynomial.legendre import leggauss\n",
        "from mpmath import quad, mp\n",
        "\n",
        "mp.dps = 80\n",
        "\n",
        "def trapezoid(f, a, b, n):\n",
        "    h = (b - a) / n\n",
        "    x = np.linspace(a, b, n+1)\n",
        "    y = f(x)\n",
        "    return h * (0.5*y[0] + y[1:-1].sum() + 0.5*y[-1])\n",
        "\n",
        "def simpson_composite(f, a, b, n):\n",
        "    if n < 2:\n",
        "        raise ValueError(\"n debe ser >= 2\")\n",
        "    h = (b - a) / n\n",
        "    x = np.linspace(a, b, n+1)\n",
        "    y = f(x)\n",
        "    if n % 2 == 0:\n",
        "        S = y[0] + y[-1] + 4*y[1:-1:2].sum() + 2*y[2:-2:2].sum()\n",
        "        return S * h / 3.0\n",
        "    else:\n",
        "        m = n - 1\n",
        "        S = y[0] + y[m] + 4*y[1:m:2].sum() + 2*y[2:m-1:2].sum()\n",
        "        simpson_part = S * h / 3.0\n",
        "        trap_last = h * 0.5 * (y[m] + y[m+1])\n",
        "        return simpson_part + trap_last\n",
        "\n",
        "def gauss_legendre(f, a, b, m):\n",
        "    xi, wi = leggauss(m)\n",
        "    xm = 0.5*(a + b); xr = 0.5*(b - a)\n",
        "    return xr * np.sum(wi * f(xm + xr*xi))\n",
        "\n",
        "def f(x):\n",
        "    return (1/np.sqrt(2*np.pi))*np.exp(-0.5*x**2)\n",
        "\n",
        "a, b = -1.0, 1.0\n",
        "# Referencia de alta precisión\n",
        "ref = quad(lambda t: (1/np.sqrt(2*np.pi))*mp.e**(-0.5*t*t), [a, b])\n",
        "\n",
        "rows = []\n",
        "\n",
        "for n in [6, 15]:\n",
        "    T = trapezoid(f, a, b, n)\n",
        "    rows.append((\"Trapezoide\", n, T, abs(T - ref)))\n",
        "\n",
        "for n in [6, 15]:\n",
        "    S = simpson_composite(f, a, b, n)\n",
        "    rows.append((\"Simpson (compuesto)\", n, S, abs(S - ref)))\n",
        "\n",
        "for m in [6, 15]:\n",
        "    G = gauss_legendre(f, a, b, m)\n",
        "    rows.append((f\"Gauss–Legendre {m} pts\", m, G, abs(G - ref)))\n",
        "\n",
        "df = pd.DataFrame(rows, columns=[\"Método\", \"n/pts\", \"Aproximación\", \"Error abs. vs. ref.\"])\n",
        "print(df.to_string(index=False))\n",
        "# Guardar resultados en un archivo de texto\n",
        "\n",
        "with open(\"resultados1.txt\", \"w\", encoding=\"utf-8\") as f:\n",
        "    f.write(df.to_string(index=False))"
      ],
      "metadata": {
        "id": "WJL1-OriVfqU"
      },
      "execution_count": null,
      "outputs": []
    },
    {
      "cell_type": "markdown",
      "source": [
        "Ejercicio 2"
      ],
      "metadata": {
        "id": "2flk8i0JVgxA"
      }
    },
    {
      "cell_type": "code",
      "source": [
        "\n",
        "import numpy as np\n",
        "import pandas as pd\n",
        "from numpy.polynomial.legendre import leggauss\n",
        "from mpmath import quad, mp\n",
        "\n",
        "mp.dps = 80\n",
        "\n",
        "def trapezoid(f, a, b, n):\n",
        "    h = (b - a) / n\n",
        "    x = np.linspace(a, b, n+1)\n",
        "    y = f(x)\n",
        "    return h * (0.5*y[0] + y[1:-1].sum() + 0.5*y[-1])\n",
        "\n",
        "def simpson_composite(f, a, b, n):\n",
        "    if n < 2:\n",
        "        raise ValueError(\"n debe ser >= 2\")\n",
        "    h = (b - a) / n\n",
        "    x = np.linspace(a, b, n+1)\n",
        "    y = f(x)\n",
        "    if n % 2 == 0:\n",
        "        S = y[0] + y[-1] + 4*y[1:-1:2].sum() + 2*y[2:-2:2].sum()\n",
        "        return S * h / 3.0\n",
        "    else:\n",
        "        m = n - 1\n",
        "        S = y[0] + y[m] + 4*y[1:m:2].sum() + 2*y[2:m-1:2].sum()\n",
        "        simpson_part = S * h / 3.0\n",
        "        trap_last = h * 0.5 * (y[m] + y[m+1])\n",
        "        return simpson_part + trap_last\n",
        "\n",
        "def gauss_legendre(f, a, b, m):\n",
        "    xi, wi = leggauss(m)\n",
        "    xm = 0.5*(a + b); xr = 0.5*(b - a)\n",
        "    return xr * np.sum(wi * f(xm + xr*xi))\n",
        "\n",
        "def f(x):\n",
        "    return np.exp(x)*np.sin(x)/(1+x**2)\n",
        "\n",
        "a, b = 0.0, 3.0\n",
        "ref = quad(lambda t: mp.e**t*mp.sin(t)/(1+t**2), [a, b])\n",
        "\n",
        "rows = []\n",
        "\n",
        "for n in [6, 15, 20]:\n",
        "    T = trapezoid(f, a, b, n)\n",
        "    rows.append((\"Trapezoide\", n, T, abs(T - ref)))\n",
        "\n",
        "for n in [6, 15, 20]:\n",
        "    S = simpson_composite(f, a, b, n)\n",
        "    rows.append((\"Simpson (compuesto)\", n, S, abs(S - ref)))\n",
        "\n",
        "for m in [6, 15]:\n",
        "    G = gauss_legendre(f, a, b, m)\n",
        "    rows.append((f\"Gauss–Legendre {m} pts\", m, G, abs(G - ref)))\n",
        "\n",
        "df = pd.DataFrame(rows, columns=[\"Método\", \"n/pts\", \"Aproximación\", \"Error abs. vs. ref.\"])\n",
        "print(df.to_string(index=False))\n",
        "\n",
        "with open(\"resultados2.txt\", \"w\", encoding=\"utf-8\") as f:\n",
        "    f.write(df.to_string(index=False))\n"
      ],
      "metadata": {
        "colab": {
          "base_uri": "https://localhost:8080/"
        },
        "id": "lnon6kPJWU6D",
        "outputId": "921900de-f902-4c83-d457-ac5daaf5fdec"
      },
      "execution_count": 7,
      "outputs": [
        {
          "output_type": "stream",
          "name": "stdout",
          "text": [
            "               Método  n/pts  Aproximación                                                                          Error abs. vs. ref.\n",
            "           Trapezoide      6      2.821344          0.060293090335015692708136258435807992678921084959868676647181935147397718793638225\n",
            "           Trapezoide     15      2.872045         0.0095921689047338726288918325662611620247767978504936766471819351473977187936382247\n",
            "           Trapezoide     20      2.876244         0.0053934584475859476163142164222894804299281650379936766471819351473977187936382247\n",
            "  Simpson (compuesto)      6      2.885402         0.0037645906719023064476667867057026727377964443370063233528180648526022812063617753\n",
            "  Simpson (compuesto)     15      2.880503         0.0011339181909653833804687666924669043839381748036186766471819351473977187936382247\n",
            "  Simpson (compuesto)     20      2.881649       0.000011287116416552330495404756255577343661922852631323352818064852602281206361775273\n",
            " Gauss–Legendre 6 pts      6      2.881643      0.0000056647374217338972110963441432817160679287120063233528180648526022812063617752726\n",
            "Gauss–Legendre 15 pts     15      2.881637 0.000000000021305696654987615322135259372036319334868676647181935147397718793638224727376594\n"
          ]
        }
      ]
    },
    {
      "cell_type": "markdown",
      "source": [
        "Ejercicio 3"
      ],
      "metadata": {
        "id": "ZrpViKtzVjNh"
      }
    },
    {
      "cell_type": "code",
      "source": [
        "\n",
        "import numpy as np\n",
        "import pandas as pd\n",
        "from numpy.polynomial.legendre import leggauss\n",
        "from mpmath import quad, mp\n",
        "\n",
        "mp.dps = 80\n",
        "\n",
        "def trapezoid(f, a, b, n):\n",
        "    h = (b - a) / n\n",
        "    x = np.linspace(a, b, n+1)\n",
        "    y = f(x)\n",
        "    return h * (0.5*y[0] + y[1:-1].sum() + 0.5*y[-1])\n",
        "\n",
        "def simpson_composite(f, a, b, n):\n",
        "    if n < 2:\n",
        "        raise ValueError(\"n debe ser >= 2\")\n",
        "    h = (b - a) / n\n",
        "    x = np.linspace(a, b, n+1)\n",
        "    y = f(x)\n",
        "    if n % 2 == 0:\n",
        "        S = y[0] + y[-1] + 4*y[1:-1:2].sum() + 2*y[2:-2:2].sum()\n",
        "        return S * h / 3.0\n",
        "    else:\n",
        "        m = n - 1\n",
        "        S = y[0] + y[m] + 4*y[1:m:2].sum() + 2*y[2:m-1:2].sum()\n",
        "        simpson_part = S * h / 3.0\n",
        "        trap_last = h * 0.5 * (y[m] + y[m+1])\n",
        "        return simpson_part + trap_last\n",
        "\n",
        "def gauss_legendre(f, a, b, m):\n",
        "    xi, wi = leggauss(m)\n",
        "    xm = 0.5*(a + b); xr = 0.5*(b - a)\n",
        "    return xr * np.sum(wi * f(xm + xr*xi))\n",
        "\n",
        "def f(x):\n",
        "    return np.exp(x)*np.sin(x)/(1+x**2)\n",
        "\n",
        "a, b = -2.0, 0.0\n",
        "ref = quad(lambda t: mp.e**t*mp.sin(t)/(1+t**2), [a, b])\n",
        "\n",
        "rows = []\n",
        "\n",
        "for n in [6, 15, 20]:\n",
        "    T = trapezoid(f, a, b, n)\n",
        "    rows.append((\"Trapezoide\", n, T, abs(T - ref)))\n",
        "\n",
        "for n in [6, 15, 20]:\n",
        "    S = simpson_composite(f, a, b, n)\n",
        "    rows.append((\"Simpson (compuesto)\", n, S, abs(S - ref)))\n",
        "\n",
        "for m in [6, 15]:\n",
        "    G = gauss_legendre(f, a, b, m)\n",
        "    rows.append((f\"Gauss–Legendre {m} pts\", m, G, abs(G - ref)))\n",
        "\n",
        "df = pd.DataFrame(rows, columns=[\"Método\", \"n/pts\", \"Aproximación\", \"Error abs. vs. ref.\"])\n",
        "print(df.to_string(index=False))\n",
        "\n",
        "with open(\"resultados3.txt\", \"w\", encoding=\"utf-8\") as f:\n",
        "    f.write(df.to_string(index=False))\n"
      ],
      "metadata": {
        "colab": {
          "base_uri": "https://localhost:8080/"
        },
        "id": "_33vUp_HWYgB",
        "outputId": "88bdef41-eea8-40ee-d165-762b894b149c"
      },
      "execution_count": 6,
      "outputs": [
        {
          "output_type": "stream",
          "name": "stdout",
          "text": [
            "               Método  n/pts  Aproximación                                                                            Error abs. vs. ref.\n",
            "           Trapezoide      6     -0.246627           0.0098437143172869280047959948616740703573456376335164257012644055283396839243154736\n",
            "           Trapezoide     15     -0.254905           0.0015655048644270031830300370030859895041218369743367382012644055283396839243154736\n",
            "           Trapezoide     20     -0.255590          0.00088017509483082631984110707450289651658445294113361320126440552833968392431547361\n",
            "  Simpson (compuesto)      6     -0.256762          0.00029123587319104240610009651830788329336732928542888679873559447166031607568452639\n",
            "  Simpson (compuesto)     15     -0.256037          0.00043383050506843332396137088395752385165601666183673820126440552833968392431547361\n",
            "  Simpson (compuesto)     20     -0.256473        0.0000021912002766909757072978707905448982486159065226367987355944716603160756845263889\n",
            " Gauss–Legendre 6 pts      6     -0.256472        0.0000017609110739224233926604527690969416865736701945117987355944716603160756845263889\n",
            "Gauss–Legendre 15 pts     15     -0.256471 0.00000000000001184599217104801467522606346696917800701179873559447166031607568452638890172191\n"
          ]
        }
      ]
    },
    {
      "cell_type": "markdown",
      "source": [
        "Ejercicio 4"
      ],
      "metadata": {
        "id": "LLYiVf5wVkzq"
      }
    },
    {
      "cell_type": "code",
      "source": [
        "import numpy as np\n",
        "import pandas as pd\n",
        "from mpmath import quad, mp\n",
        "\n",
        "mp.dps = 80\n",
        "\n",
        "def simpson_composite(f, a, b, n):\n",
        "    if n < 2:\n",
        "        raise ValueError(\"n debe ser >= 2\")\n",
        "    h = (b - a) / n\n",
        "    x = np.linspace(a, b, n+1)\n",
        "    y = f(x)\n",
        "    if n % 2 == 0:\n",
        "        S = y[0] + y[-1] + 4*y[1:-1:2].sum() + 2*y[2:-2:2].sum()\n",
        "        return S * h / 3.0\n",
        "    else:\n",
        "        m = n - 1\n",
        "        S = y[0] + y[m] + 4*y[1:m:2].sum() + 2*y[2:m-1:2].sum()\n",
        "        simpson_part = S * h / 3.0\n",
        "        trap_last = h * 0.5 * (y[m] + y[m+1])\n",
        "        return simpson_part + trap_last\n",
        "\n",
        "def f(x):\n",
        "    return np.exp(x)/x\n",
        "\n",
        "def g(x):\n",
        "    return (1-np.exp(x))/x\n",
        "\n",
        "a_eps = [1e-1, 1e-3, 1e-6]\n",
        "b = 5.0\n",
        "\n",
        "rows_f = []\n",
        "ref_f = quad(lambda t: (mp.e**t)/t, [0, b])\n",
        "for eps in a_eps:\n",
        "    # Usar Simpson con subintérvalos [eps, b]\n",
        "    n = 2000\n",
        "    val = simpson_composite(f, eps, b, n)\n",
        "    rows_f.append((eps, n, val))\n",
        "\n",
        "# For g(x), integral es propia si interpertamos el límite a 0 , con g~ -1 cercano a 0.\n",
        "# Evaluar con un épsilon chiquitito para estabilidad y que converja\n",
        "rows_g = []\n",
        "ref_g = quad(lambda t: (1-mp.e**t)/t, [0, b])  # integral impropia de mpmath\n",
        "for eps in a_eps:\n",
        "    n = 2000\n",
        "    val = simpson_composite(g, eps, b, n)\n",
        "    rows_g.append((eps, n, val, abs(val - ref_g)))\n",
        "\n",
        "import pandas as pd\n",
        "df_f = pd.DataFrame(rows_f, columns=[\"epsilon (límite inferior)\", \"n (subintervalos)\", \"Integral aprox. de e^x/x en [eps,5]\"])\n",
        "df_g = pd.DataFrame(rows_g, columns=[\"epsilon (límite inferior)\", \"n (subintervalos)\", \"Integral aprox. de (1-e^x)/x\", \"Error abs. vs ref. mpmath\"])\n",
        "\n",
        "print(\"f(x) = e^x/x (integral impropia):\")\n",
        "print(df_f.to_string(index=False))\n",
        "print(\"\\nObservación: al reducir epsilon, el valor crece sin cota (diverge logarítmicamente).\")\n",
        "print(f\"\\nReferencia mpmath (impropia) para f(x) en [0,5]: {ref_f}\")\n",
        "print(\"\\nObservación: La integral de f(x) diverge logarítmicamente cuando ε → 0⁺.\")\n",
        "\n",
        "print(\"\\ng(x) = (1-e^x)/x en (0,5]:\")\n",
        "print(df_g.to_string(index=False))\n",
        "print(f\"\\nReferencia mpmath (impropia) para g(x) en [0,5]: {ref_g}\")\n",
        "\n",
        "with open(\"resultados4.txt\", \"w\", encoding=\"utf-8\") as f:\n",
        "    f.write(\"f(x) = e^x/x (integral impropia):\\n\")\n",
        "    f.write(df_f.to_string(index=False))\n",
        "    f.write(f\"\\n\\nReferencia mpmath: {ref_f}\")\n",
        "    f.write(\"\\n\\nEsto muestra cómo diverge la función\")\n",
        "    f.write(\"\\n\\n\")\n",
        "    f.write(\"g(x) = (1-e^x)/x en (0,5]:\\n\")\n",
        "    f.write(df_g.to_string(index=False))\n",
        "    f.write(f\"\\n\\nReferencia mpmath: {ref_g}\")"
      ],
      "metadata": {
        "colab": {
          "base_uri": "https://localhost:8080/"
        },
        "id": "_HWJkaUlWbIy",
        "outputId": "50a04c4d-e6f2-4457-f403-ef4d7d723a56"
      },
      "execution_count": 5,
      "outputs": [
        {
          "output_type": "stream",
          "name": "stdout",
          "text": [
            "f(x) = e^x/x (integral impropia):\n",
            " epsilon (límite inferior)  n (subintervalos)  Integral aprox. de e^x/x en [eps,5]\n",
            "                  0.100000               2000                            41.808088\n",
            "                  0.001000               2000                            46.648347\n",
            "                  0.000001               2000                           879.740187\n",
            "\n",
            "Observación: al reducir epsilon, el valor crece sin cota (diverge logarítmicamente).\n",
            "\n",
            "Referencia mpmath (impropia) para f(x) en [0,5]: 232.20124671299132827505602527772341360608366692613017750999943124940002822407659\n",
            "\n",
            "Observación: La integral de f(x) diverge logarítmicamente cuando ε → 0⁺.\n",
            "\n",
            "g(x) = (1-e^x)/x en (0,5]:\n",
            " epsilon (límite inferior)  n (subintervalos)  Integral aprox. de (1-e^x)/x                                                                Error abs. vs ref. mpmath\n",
            "                  0.100000               2000                    -37.896065       0.10255661411975539703242451650768946991968608398748911346446012528359809944289813\n",
            "                  0.001000               2000                    -37.997622       0.00100025005180229935838928213090133057642436523748911346446012528359809944289813\n",
            "                  0.000001               2000                    -37.998621 0.00000099999652961695581529056400489197779155273748911346446012528359809944289813000176\n",
            "\n",
            "Referencia mpmath (impropia) para g(x) en [0,5]: -37.998621778467544219884150370487277024851326708987489113464460125283598099442898\n"
          ]
        }
      ]
    },
    {
      "cell_type": "markdown",
      "source": [
        "#T4) Datos de estrellas y estaturas"
      ],
      "metadata": {
        "id": "1iIa0CQfAniO"
      }
    },
    {
      "cell_type": "code",
      "source": [
        "\n",
        "#!/usr/bin/env python\n",
        "from __future__ import print_function,division\n",
        "### http://www-personal.umich.edu/~mejn/computational-physics/\n",
        "\n",
        "#from pylab import scatter,xlabel,ylabel,xlim,ylim,show\n",
        "#from numpy import loadtxt\n",
        "\n",
        "#data = loadtxt(\"stars.dat\",float)\n",
        "#x = data[:,0]\n",
        "#y = data[:,1]\n",
        "\n",
        "#scatter(x,y)\n",
        "#xlabel(\"Temperature\")\n",
        "#ylabel(\"Magnitude\")\n",
        "#xlim(0,13000)\n",
        "#ylim(-5,20)\n",
        "#show()\n",
        "###########################################################################\n",
        "#Sin pylab\n",
        "#!/usr/bin/env python\n",
        "import numpy as np\n",
        "import matplotlib.pyplot as plt\n",
        "\n",
        "# Leer el archivo de datos\n",
        "data = np.loadtxt(\"stars.dat\", float)\n",
        "x = data[:, 0]   # Temperatura\n",
        "y = data[:, 1]   # Magnitud\n",
        "\n",
        "# Crear figura y ejes\n",
        "plt.scatter(x, y)\n",
        "\n",
        "# Etiquetas y límites\n",
        "plt.xlabel(\"Temperature\")\n",
        "plt.ylabel(\"Magnitude\")\n",
        "plt.xlim(0, 13000)\n",
        "plt.ylim(-5, 20)\n",
        "\n",
        "# Mostrar la gráfica\n",
        "plt.show()\n"
      ],
      "metadata": {
        "collapsed": true,
        "id": "G869Bny__q4N"
      },
      "execution_count": null,
      "outputs": []
    },
    {
      "cell_type": "code",
      "source": [
        "#!/usr/bin/env python\n",
        "import numpy as np\n",
        "import matplotlib.pyplot as plt\n",
        "\n",
        "# Cargar los archivos de datos\n",
        "dataA = np.loadtxt(\"altura5.dat\", float)\n",
        "dataB = np.loadtxt(\"altura6.dat\", float)\n",
        "\n",
        "\n",
        "x      = dataA[:,0]\n",
        "freq1  = dataA[:,1]\n",
        "freq2  = dataA[:,2]\n",
        "freq3  = dataA[:,3]\n",
        "\n",
        "# Crear figura con 3 subplots en columnas\n",
        "fig, axes = plt.subplots(3, 1, figsize=(8, 10), sharex=True)\n",
        "\n",
        "# Primer histograma\n",
        "axes[0].bar(x, freq1, width=(x[1]-x[0]), color=\"red\", edgecolor=\"black\", alpha=0.7)\n",
        "axes[0].set_ylabel(\"Frecuencia 1\")\n",
        "axes[0].set_title(\"Histograma 1\", color=\"red\")\n",
        "\n",
        "# Segundo histograma\n",
        "axes[1].bar(x, freq2, width=(x[1]-x[0]), color=\"green\", edgecolor=\"black\", alpha=0.7)\n",
        "axes[1].set_ylabel(\"Frecuencia 2\")\n",
        "axes[1].set_title(\"Histograma 2\", color=\"green\")\n",
        "\n",
        "# Tercer histograma\n",
        "axes[2].bar(x, freq3, width=(x[1]-x[0]), color=\"blue\", edgecolor=\"black\", alpha=0.7)\n",
        "axes[2].set_ylabel(\"Frecuencia 3\")\n",
        "axes[2].set_xlabel(\"Valor\")\n",
        "axes[2].set_title(\"Histograma 3\", color=\"blue\")\n",
        "\n",
        "plt.tight_layout()\n",
        "plt.xlim(1.6,1.8)\n",
        "plt.ylim(0,120)\n",
        "plt.show()\n",
        "\n",
        "# Graficar histograma de dataB\n",
        "plt.hist(dataB, bins=5, color=\"skyblue\", edgecolor=\"black\")  # puedes ajustar bins\n",
        "\n",
        "# Etiquetas\n",
        "plt.xlabel(\"Estatura\")\n",
        "plt.ylabel(\"Frecuencia\")\n",
        "plt.ylim(19000,21000)\n",
        "plt.xlim(1.5, 2)\n",
        "plt.title(\"Histograma de dataB (100,000 datos)\")\n",
        "\n",
        "# Mostrar gráfica\n",
        "plt.show()\n",
        "\n"
      ],
      "metadata": {
        "id": "Gj0X6JBYA0dr"
      },
      "execution_count": null,
      "outputs": []
    },
    {
      "cell_type": "markdown",
      "source": [
        "# Método de Horner y Cos (T3)"
      ],
      "metadata": {
        "id": "9jGK39lh2X1m"
      }
    },
    {
      "cell_type": "code",
      "execution_count": null,
      "metadata": {
        "id": "UJIikwlynMmx",
        "colab": {
          "base_uri": "https://localhost:8080/"
        },
        "outputId": "84a423a0-a05b-4bdf-e261-afb4d7132de6"
      },
      "outputs": [
        {
          "output_type": "stream",
          "name": "stdout",
          "text": [
            "Para el método Horner el resultado es: 46521\n",
            "Para el método Naive el resultado es: 46521\n",
            "Para el método Iter el resultado es: 46521\n"
          ]
        }
      ],
      "source": [
        "def poly_horner(A, x):\n",
        "    p0 = A[-1]           # Empieza con el coeficiente de mayor grado (a_n)\n",
        "    i = len(A) - 2      # Índice del siguiente coeficiente\n",
        "    while i >= 0:\n",
        "        p0 = p0 * x + A[i]  # Aplica Horner: p0 = (p0 * x) + siguiente coeficiente\n",
        "        i -= 1            # Decimos que ahora i=i-1\n",
        "    return p0              # Guarda p0\n",
        "\n",
        "\n",
        "def poly_naive(A, x):\n",
        "    p1 = 0\n",
        "    for i, a in enumerate(A):\n",
        "        p1 += (x ** i) * a\n",
        "    return p1\n",
        "\n",
        "def poly_iter(A, x):\n",
        "    p2 = 0\n",
        "    xn = 1\n",
        "    for a in A:\n",
        "        p2 += xn * a\n",
        "        xn *= x\n",
        "    return p2\n",
        "\n",
        "A = [-19, 7, -4, 6]     #Definimos la lista de coeficientes\n",
        "x=20         # Definimos la variable x\n",
        "print(f\"Para el método Horner el resultado es: {poly_horner(A, x)}\")\n",
        "print(f\"Para el método Naive el resultado es: {poly_naive(A, x)}\")\n",
        "print(f\"Para el método Iter el resultado es: {poly_iter(A, x)}\")"
      ]
    },
    {
      "cell_type": "code",
      "source": [
        "import math\n",
        "import csv\n",
        "\n",
        "# Serie directa\n",
        "def cos_series_direct(x, tol=1e-8, CosenoReal=None):\n",
        "    suma = 0\n",
        "    n = 0\n",
        "    term = 1\n",
        "    results = []\n",
        "    while abs(term) > tol:\n",
        "        term = ((-1)**n) * (x**(2*n)) / math.factorial(2*n)\n",
        "        suma += term\n",
        "        error_rel = abs(suma - CosenoReal) / abs(CosenoReal)\n",
        "        results.append((n, suma, error_rel))\n",
        "        n += 1\n",
        "    return results\n",
        "\n",
        "# Serie parcial\n",
        "def cos_series_partial(x, tol=1e-8, CosenoReal=None):\n",
        "    suma = 0\n",
        "    n = 0\n",
        "    term = 1\n",
        "    results = []\n",
        "    while abs(term) > tol:\n",
        "        suma += term\n",
        "        error_rel = abs(suma - CosenoReal) / abs(CosenoReal)\n",
        "        results.append((n, suma, error_rel))\n",
        "        # siguiente término\n",
        "        term *= - (x**2) / ((2*n+1)*(2*n+2))\n",
        "        n += 1\n",
        "    return results\n",
        "\n",
        "# Función para guardar resultados en CSV\n",
        "def guardar_csv(nombre, x, results, CosenoReal):\n",
        "    with open(nombre, mode=\"w\", newline=\"\", encoding=\"utf-8\") as file:\n",
        "        writer = csv.writer(file)\n",
        "        writer.writerow([\"x\", \"Iteración\", \"Suma\", \"|Suma-cos(x)|/cos(x)\"])\n",
        "        for n, suma, error_rel in results:\n",
        "            writer.writerow([x, n, f\"{suma:.10f}\", f\"{abs(suma-CosenoReal)/CosenoReal:.10e}\"])\n",
        "\n",
        "# Ejemplo\n",
        "x =90\n",
        "CosenoReal = math.cos(x)\n",
        "\n",
        "# Generar resultados\n",
        "res_direct_1e4 = cos_series_direct(x, 1e-4, CosenoReal)\n",
        "res_direct_1e8 = cos_series_direct(x, 1e-8, CosenoReal)\n",
        "res_partial_1e4 = cos_series_partial(x, 1e-4, CosenoReal)\n",
        "res_partial_1e8 = cos_series_partial(x, 1e-8, CosenoReal)\n",
        "\n",
        "# Guardar CSVs\n",
        "guardar_csv(\"serie_directa_tol1e-4.csv\", x, res_direct_1e4, CosenoReal)\n",
        "guardar_csv(\"serie_directa_tol1e-8.csv\", x, res_direct_1e8, CosenoReal)\n",
        "guardar_csv(\"serie_parcial_tol1e-4.csv\", x, res_partial_1e4, CosenoReal)\n",
        "guardar_csv(\"serie_parcial_tol1e-8.csv\", x, res_partial_1e8, CosenoReal)\n",
        "\n",
        "print(\"Archivos CSV generados, según yo\") #Profesor, si está viendo esto y no encuentra los archivos en collab\n",
        "# están en la parte izquierda donde está el símbolo de una carpeta. Supongo que ya lo sabe, pero por si las dudas.\n",
        "print(f\"El valor del cos({x}) es: {CosenoReal}\")"
      ],
      "metadata": {
        "colab": {
          "base_uri": "https://localhost:8080/"
        },
        "id": "KTvk30OFAkhj",
        "outputId": "272d2569-1fce-4c25-e881-f0aba461ca97"
      },
      "execution_count": null,
      "outputs": [
        {
          "output_type": "stream",
          "name": "stdout",
          "text": [
            "Archivos CSV generados, según yo\n",
            "El valor del cos(90) es: -0.4480736161291701\n"
          ]
        }
      ]
    }
  ]
}